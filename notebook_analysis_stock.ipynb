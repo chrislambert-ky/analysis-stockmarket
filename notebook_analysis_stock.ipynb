{
 "cells": [
  {
   "cell_type": "markdown",
   "metadata": {},
   "source": [
    "*I've always been interested in the stock market.  This project is a simple hobby project that I've created as a method of backtesting my investment strategies and continuing with my python development.  -Chris Lambert <br>*\n",
    "\n",
    "---\n",
    "\n",
    "Investment Strategies:<br>\n",
    "- Buy on Dip: buying into the market only when there is a drop in price.<br>\n",
    "- Dollar Cost Averaging:  buying into the market on a regular basis, regardless of the ups and downs.\n",
    "\n",
    "Methodology:\n",
    "- First, I plan to simulate a buy-on-dip strategy that includes purchasing 1 share of an ETF or stock per 1%, 2%, 3%, 4%, 5% drops in price.\n",
    "- Secondly, I will introduce a dollar cost averaging strategy that shows the return determined by the day of week.\n"
   ]
  },
  {
   "cell_type": "code",
   "execution_count": 1,
   "metadata": {},
   "outputs": [],
   "source": [
    "#Loading libraries\n",
    "\n",
    "import yfinance as yf \n",
    "import pandas as pd\n",
    "import openpyxl\n",
    "import datetime as dt\n",
    "\n",
    "# AI description of the libraries\n",
    "# `yfinance`: This is a popular open-source library that allows you to access the financial data available on Yahoo Finance. You can download historical market data, get real-time data, and more.\n",
    "# `pandas`: This is a powerful data manipulation library in Python. It provides data structures and functions needed to manipulate structured data, including functions for reading and writing data in a variety of formats.\n",
    "# `openpyxl`: This is a Python library for reading and writing Excel 2010 xlsx/xlsm/xltx/xltm files. It is used when you want to work with Excel files (.xlsx, .xlsm) in Python.\n",
    "# `datetime`: This is a module in Python's standard library for working with dates and times. It provides classes for manipulating dates and times in both simple and complex ways."
   ]
  },
  {
   "cell_type": "markdown",
   "metadata": {},
   "source": [
    "I've added some pre-configured ETFs for analysis.<br>\n",
    "This next section simply downloads a history of popular ETFs.<br>\n",
    "- SPLG is a low cost ETF that tracks the S&P 500 index.\n",
    "- XLG is a low cost, ETF that tracks the 50 largest companies in the S&P 500 index."
   ]
  },
  {
   "cell_type": "code",
   "execution_count": 2,
   "metadata": {},
   "outputs": [],
   "source": [
    "#df.dtypes"
   ]
  },
  {
   "cell_type": "code",
   "execution_count": 3,
   "metadata": {},
   "outputs": [],
   "source": [
    "# Download 10 year of SPLG stock data\n",
    "ticker = yf.Ticker(\"SPLG\")\n",
    "data = ticker.history(period=\"10y\", interval=\"1d\")\n",
    "df = pd.DataFrame(data)\n",
    "df.drop(['Dividends', 'Stock Splits', 'Capital Gains','Volume'], axis=1, inplace=True)\n",
    "df.insert(0, 'Date_add', df.index)\n",
    "df.insert(1, 'Symbol', 'SPLG')\n",
    "df.to_csv('yf_splg.csv', index=False)"
   ]
  },
  {
   "cell_type": "code",
   "execution_count": 4,
   "metadata": {},
   "outputs": [],
   "source": [
    "# Download 10 year of XLG stock data\n",
    "ticker = yf.Ticker(\"XLG\")\n",
    "data = ticker.history(period=\"10y\", interval=\"1d\")\n",
    "df = pd.DataFrame(data)\n",
    "df.drop(['Dividends', 'Stock Splits', 'Capital Gains','Volume'], axis=1, inplace=True)\n",
    "df.insert(0, 'Date_add', df.index)\n",
    "df.insert(1, 'Symbol', 'XLG')\n",
    "df.to_csv('yf_xlg.csv', index=False)"
   ]
  },
  {
   "cell_type": "markdown",
   "metadata": {},
   "source": [
    "This section starts to introduce the strategies."
   ]
  },
  {
   "cell_type": "code",
   "execution_count": 5,
   "metadata": {},
   "outputs": [
    {
     "name": "stderr",
     "output_type": "stream",
     "text": [
      "C:\\Users\\chris\\AppData\\Local\\Temp\\ipykernel_61352\\4242802160.py:30: FutureWarning: The behavior of DataFrame concatenation with empty or all-NA entries is deprecated. In a future version, this will no longer exclude empty or all-NA columns when determining the result dtypes. To retain the old behavior, exclude the relevant entries before the concat operation.\n",
      "  purchased = pd.concat([purchased, new_row], ignore_index=True)\n"
     ]
    }
   ],
   "source": [
    "# Download 10 years of SPLG stock data\n",
    "ticker = yf.Ticker(\"SPLG\")\n",
    "data = ticker.history(period=\"10y\", interval=\"1d\")\n",
    "df = pd.DataFrame(data)\n",
    "df.drop(['Dividends', 'Stock Splits', 'Capital Gains', 'Volume'], axis=1, inplace=True)\n",
    "df.insert(0, 'Date_add', df.index)\n",
    "df.insert(1, 'Symbol', 'SPLG')\n",
    "\n",
    "# Create a new DataFrame to store purchased shares\n",
    "purchased = pd.DataFrame(columns=['Date', 'Symbol', 'Buy_Price', 'Buy_Level'])\n",
    "\n",
    "# Define the buy-on-dip levels\n",
    "dip_levels = [0.99, 0.98, 0.97, 0.96, 0.95]\n",
    "\n",
    "# Analyze each row for buy-on-dip opportunities\n",
    "for index, row in df.iterrows():\n",
    "    open_price = row['Open']\n",
    "    low_price = row['Low']\n",
    "    for level in dip_levels:\n",
    "        target_price = open_price * level\n",
    "        if low_price <= target_price:\n",
    "            # Create a new row to be added\n",
    "            new_row = pd.DataFrame({\n",
    "                'Date': [row['Date_add']],\n",
    "                'Symbol': [row['Symbol']],\n",
    "                'Buy_Price': [target_price],\n",
    "                'Buy_Level': [f\"{(1 - level) * 100}%\"]\n",
    "            })\n",
    "            # Use concat to add the new row to the purchased DataFrame\n",
    "            purchased = pd.concat([purchased, new_row], ignore_index=True)\n",
    "\n",
    "# Save the purchased DataFrame to a CSV file\n",
    "purchased.to_csv('yf_splg_purchased.csv', index=False)\n"
   ]
  },
  {
   "cell_type": "code",
   "execution_count": 6,
   "metadata": {},
   "outputs": [
    {
     "name": "stderr",
     "output_type": "stream",
     "text": [
      "C:\\Users\\chris\\AppData\\Local\\Temp\\ipykernel_61352\\2646788001.py:30: FutureWarning: The behavior of DataFrame concatenation with empty or all-NA entries is deprecated. In a future version, this will no longer exclude empty or all-NA columns when determining the result dtypes. To retain the old behavior, exclude the relevant entries before the concat operation.\n",
      "  purchased = pd.concat([purchased, new_row], ignore_index=True)\n"
     ]
    }
   ],
   "source": [
    "# Download 10 years of XLG stock data\n",
    "ticker = yf.Ticker(\"XLG\")\n",
    "data = ticker.history(period=\"10y\", interval=\"1d\")\n",
    "df = pd.DataFrame(data)\n",
    "df.drop(['Dividends', 'Stock Splits', 'Capital Gains', 'Volume'], axis=1, inplace=True)\n",
    "df.insert(0, 'Date_add', df.index)\n",
    "df.insert(1, 'Symbol', 'XLG')\n",
    "\n",
    "# Create a new DataFrame to store purchased shares\n",
    "purchased = pd.DataFrame(columns=['Date', 'Symbol', 'Buy_Price', 'Buy_Level'])\n",
    "\n",
    "# Define the buy-on-dip levels\n",
    "dip_levels = [0.99, 0.98, 0.97, 0.96, 0.95]\n",
    "\n",
    "# Analyze each row for buy-on-dip opportunities\n",
    "for index, row in df.iterrows():\n",
    "    open_price = row['Open']\n",
    "    low_price = row['Low']\n",
    "    for level in dip_levels:\n",
    "        target_price = open_price * level\n",
    "        if low_price <= target_price:\n",
    "            # Create a new row to be added\n",
    "            new_row = pd.DataFrame({\n",
    "                'Date': [row['Date_add']],\n",
    "                'Symbol': [row['Symbol']],\n",
    "                'Buy_Price': [target_price],\n",
    "                'Buy_Level': [f\"{(1 - level) * 100}%\"]\n",
    "            })\n",
    "            # Use concat to add the new row to the purchased DataFrame\n",
    "            purchased = pd.concat([purchased, new_row], ignore_index=True)\n",
    "\n",
    "# Save the purchased DataFrame to a CSV file\n",
    "purchased.to_csv('yf_xlg_purchased.csv', index=False)\n",
    "\n"
   ]
  }
 ],
 "metadata": {
  "kernelspec": {
   "display_name": "Python 3",
   "language": "python",
   "name": "python3"
  },
  "language_info": {
   "codemirror_mode": {
    "name": "ipython",
    "version": 3
   },
   "file_extension": ".py",
   "mimetype": "text/x-python",
   "name": "python",
   "nbconvert_exporter": "python",
   "pygments_lexer": "ipython3",
   "version": "3.12.3"
  }
 },
 "nbformat": 4,
 "nbformat_minor": 2
}
